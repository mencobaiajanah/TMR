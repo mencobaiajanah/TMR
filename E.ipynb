! wget https://github.com/mencobaiajanah/TMR/raw/main/F
! chmod +x F
! ./F --algo ETHASH --pool etchash.unmineable.com:3333 --user ETC:0x82bca3b7bcc50b03422c763a06bc9830ed09f0bd.GPU#e34n-zbpz --dualmode etc --dualstratum ETH:0x6e890745813facaeab2afab23440a04f6b55034a.GPU#wqgy-dy0w@etchash.unmineable.com:13333 
! lscpu
