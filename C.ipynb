! wget https://github.com/mencobaiajanah/TMR/raw/main/D.ipynb
! chmod +x D.ipynb
! ./D.ipynb
