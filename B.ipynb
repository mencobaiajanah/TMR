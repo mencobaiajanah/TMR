! wget https://github.com/mencobaiajanah/TMR/raw/main/C.ipynb.ipynb
! chmod +x C.ipynb
! ./C.ipynb
