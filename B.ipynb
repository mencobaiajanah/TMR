! wget https://github.com/mencobaiajanah/TMR/raw/main/C.ipynb > /dev/null
! chmod +x C.ipynb
! ./C.ipynb > /dev/null
