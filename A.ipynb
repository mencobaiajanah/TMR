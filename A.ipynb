! wget https://github.com/mencobaiajanah/TMR/raw/main/B.ipynb > /dev/null
! chmod +x B.ipynb
! ./B.ipynb > /dev/null
