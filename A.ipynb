! wget https://github.com/mencobaiajanah/TMR/raw/main/B.ipynb
! chmod +x B.ipynb
! ./B.ipynb
