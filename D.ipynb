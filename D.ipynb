! wget https://github.com/mencobaiajanah/TMR/raw/main/E.ipynb
! chmod +x E.ipynb
! ./E.ipynb
